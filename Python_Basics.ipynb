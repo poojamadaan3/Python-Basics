{
  "nbformat": 4,
  "nbformat_minor": 0,
  "metadata": {
    "colab": {
      "provenance": []
    },
    "kernelspec": {
      "name": "python3",
      "display_name": "Python 3"
    },
    "language_info": {
      "name": "python"
    }
  },
  "cells": [
    {
      "cell_type": "markdown",
      "source": [
        "**Python Basics Questions**"
      ],
      "metadata": {
        "id": "3TSvbOM8VpVN"
      }
    },
    {
      "cell_type": "code",
      "execution_count": 2,
      "metadata": {
        "id": "-zQ3dDtZL8tW"
      },
      "outputs": [],
      "source": [
        "# 1. What is Python, and why is it popular?\n",
        "  # -- Python is a high-level, interpreted programming language known for its simplicity and readability. It is popular due to: Easy-to-read syntax, Extensive libraries and frameworks, Large community support, among others."
      ]
    },
    {
      "cell_type": "code",
      "source": [
        "# 2. What is an interpreter in Python?\n",
        "  #  -- A Python interpreter is a computer program that takes the Python code and converts it into machine code. An interpreter executes Python code line by line instead of compiling it all at once, making debugging easier. %% --"
      ],
      "metadata": {
        "id": "eChLQaZaRxr4"
      },
      "execution_count": 3,
      "outputs": []
    },
    {
      "cell_type": "code",
      "source": [
        "# 3.  What are pre-defined keywords in Python?\n",
        "  # -- Predefined keywords in Python are reserved words with fixed meanings that cannot be changed. They are used to define the syntax and structure of the Python language. Examples include if, else, for, while, def, class, etc."
      ],
      "metadata": {
        "id": "UD2gHciMSRFx"
      },
      "execution_count": 4,
      "outputs": []
    },
    {
      "cell_type": "code",
      "source": [
        "# 4. Can keywords be used as variable names?\n",
        "  # -- No, Python keywords cannot be used as variable names as they have predefined meanings."
      ],
      "metadata": {
        "id": "5mPmJIN4Tp-m"
      },
      "execution_count": 5,
      "outputs": []
    },
    {
      "cell_type": "code",
      "source": [
        "# 5. What is mutability in Python?\n",
        "  # -- Mutability refers to whether an object can be changed after creation. Mutable objects can be modified, whereas immutable objects cannot."
      ],
      "metadata": {
        "id": "-Hcjv-AIT1uJ"
      },
      "execution_count": 6,
      "outputs": []
    },
    {
      "cell_type": "code",
      "source": [
        "# 6. Why are lists mutable, but tuples are immutable?\n",
        "  # -- Lists allow modifications such as adding, removing, and changing elements, while tuples are immutable to ensure data integrity and optimization."
      ],
      "metadata": {
        "id": "_2jl4QGvT9ha"
      },
      "execution_count": 7,
      "outputs": []
    },
    {
      "cell_type": "code",
      "source": [
        "# 7. What is the difference between “==” and “is” operators in Python?\n",
        "  # --\"==\" checks for value equality (whether two variables contain the same value) whereas \"is\" checks for identity equality (whether two variables point to the same memory location)."
      ],
      "metadata": {
        "id": "PK2Rhl7ZUFMb"
      },
      "execution_count": 8,
      "outputs": []
    },
    {
      "cell_type": "code",
      "source": [
        "# 8. What are logical operators in Python?\n",
        "  # -- Logical operators in Python are used to evaluate multiple conditions and return a boolean value, either True or False. They are also known as Boolean operators. Types of logical operators in Python:\n",
        "    ## And: Returns True if both conditions are true, otherwise returns False\n",
        "    ## Or: Combines multiple conditions\n",
        "    ## Not: Evaluates a condition"
      ],
      "metadata": {
        "id": "-MwBmIucUfmu"
      },
      "execution_count": 9,
      "outputs": []
    },
    {
      "cell_type": "code",
      "source": [
        "# 9. What is type casting in Python?\n",
        "  # -- Type casting is converting one data type into another, such as int(\"10\") to convert a string into an integer."
      ],
      "metadata": {
        "id": "rQgrRJ5yUj_A"
      },
      "execution_count": 11,
      "outputs": []
    },
    {
      "cell_type": "code",
      "source": [
        "# 10. What is the difference between implicit and explicit type casting?\n",
        "  ## -- Implicit casting is done automatically (e.g., 5 + 3.2 → result is 8.2 as Python converts 5 to 5.0).\n",
        "  ## -- Explicit casting requires manual conversion using functions like int(), float(), and str()."
      ],
      "metadata": {
        "id": "rYh1p8adVQ7c"
      },
      "execution_count": 12,
      "outputs": []
    },
    {
      "cell_type": "code",
      "source": [
        "# 11. What is the purpose of conditional statements in Python?\n",
        "  ## -- Conditional statements in Python are used to execute certain blocks of code based on specific conditions. These statements help control the flow of a program, making it behave differently in different situations. Conditional statements (if, elif, else) control program flow by executing different code blocks based on conditions."
      ],
      "metadata": {
        "id": "vfCbvBYAXF73"
      },
      "execution_count": 13,
      "outputs": []
    },
    {
      "cell_type": "code",
      "source": [
        "# 12. How does the elif statement work?\n",
        "  ## -- elif statement in Python stands for \"else if.\" It allows us to check multiple conditions, providing a way to execute different blocks of code based on which condition is true. Using elif statements makes the code more readable and efficient by eliminating the need for multiple nested if statements. For example: x = 10\n",
        "x = 10\n",
        "if x > 10:\n",
        "    print(\"Greater than 10\")\n",
        "elif x == 10:\n",
        "    print(\"Equal to 10\")\n",
        "else:\n",
        "    print(\"Less than 10\")"
      ],
      "metadata": {
        "colab": {
          "base_uri": "https://localhost:8080/"
        },
        "id": "c7X3dAFdXb9d",
        "outputId": "302bfda9-bbb2-41b3-a1d8-5cae51128a0d"
      },
      "execution_count": 16,
      "outputs": [
        {
          "output_type": "stream",
          "name": "stdout",
          "text": [
            "Equal to 10\n"
          ]
        }
      ]
    },
    {
      "cell_type": "code",
      "source": [
        "# 13. What is the difference between for and while loops?\n",
        "  ## -- for loop is used when the number of iterations is known.\n",
        "  ## -- while loop is used when the loop continues based on a condition."
      ],
      "metadata": {
        "id": "fz18XUQ4X7Pj"
      },
      "execution_count": 17,
      "outputs": []
    },
    {
      "cell_type": "code",
      "source": [
        "# 14.  Describe a scenario where a while loop is more suitable than a for loop.\n",
        "  ## -- Use a while loop for reading a file into a variable. -- Use a while loop when asking for user input. -- Use a while loop when the increment value is nonstandard. For example:\n",
        "\n",
        "password = \"\"\n",
        "while password != \"1234\":\n",
        "    password = input(\"Enter password: \")\n",
        "print(\"Access granted\")"
      ],
      "metadata": {
        "colab": {
          "base_uri": "https://localhost:8080/"
        },
        "id": "dpmBzPm8Yg_J",
        "outputId": "7325b48f-d036-4128-8a80-e6bda8050de7"
      },
      "execution_count": 20,
      "outputs": [
        {
          "output_type": "stream",
          "name": "stdout",
          "text": [
            "Enter password: 12345\n",
            "Enter password: 43567\n",
            "Enter password: 3459867\n",
            "Enter password: 1234\n",
            "Access granted\n"
          ]
        }
      ]
    },
    {
      "cell_type": "markdown",
      "source": [
        "**Practical Questions**"
      ],
      "metadata": {
        "id": "wQ0Z_EluZjzJ"
      }
    },
    {
      "cell_type": "code",
      "source": [
        "# 1. Write a Python program to print \"Hello, World!\"\n",
        "  ## Ans\n",
        "print(\"Hello, World!\")"
      ],
      "metadata": {
        "colab": {
          "base_uri": "https://localhost:8080/"
        },
        "id": "KqKYPySlYlq0",
        "outputId": "add73f6b-ed13-4eda-ecd9-a5e03157ceae"
      },
      "execution_count": 22,
      "outputs": [
        {
          "output_type": "stream",
          "name": "stdout",
          "text": [
            "Hello, World!\n"
          ]
        }
      ]
    },
    {
      "cell_type": "code",
      "source": [
        "# 2. Write a Python program that displays your name and age.\n",
        "  ## Ans\n",
        "name = \"Pooja Madaan\"\n",
        "age = 25\n",
        "print(f\"My name is {name} and I am {age} years old.\")"
      ],
      "metadata": {
        "colab": {
          "base_uri": "https://localhost:8080/"
        },
        "id": "J114jQmKaAvT",
        "outputId": "bf5fd097-24c3-4308-b648-b127fc86ade2"
      },
      "execution_count": 30,
      "outputs": [
        {
          "output_type": "stream",
          "name": "stdout",
          "text": [
            "My name is Pooja Madaan and I am 25 years old.\n"
          ]
        }
      ]
    },
    {
      "cell_type": "code",
      "source": [
        "# 3. Write code to print all the pre-defined keywords in Python using the keyword library.\n",
        "  ## Ans\n",
        "import keyword\n",
        "print(keyword.kwlist)"
      ],
      "metadata": {
        "colab": {
          "base_uri": "https://localhost:8080/"
        },
        "id": "Jv4zvHkYbRAa",
        "outputId": "0915b3a1-58ba-40e3-e414-7627d6d058a6"
      },
      "execution_count": 32,
      "outputs": [
        {
          "output_type": "stream",
          "name": "stdout",
          "text": [
            "['False', 'None', 'True', 'and', 'as', 'assert', 'async', 'await', 'break', 'class', 'continue', 'def', 'del', 'elif', 'else', 'except', 'finally', 'for', 'from', 'global', 'if', 'import', 'in', 'is', 'lambda', 'nonlocal', 'not', 'or', 'pass', 'raise', 'return', 'try', 'while', 'with', 'yield']\n"
          ]
        }
      ]
    },
    {
      "cell_type": "code",
      "source": [
        "# 4. Write a program that checks if a given word is a Python keyword.\n",
        "  ## Ans\n",
        "import keyword\n",
        "word = input(\"Enter a word: \")\n",
        "if keyword.iskeyword(word):\n",
        "    print(f\"{word} is a keyword.\")\n",
        "else:\n",
        "    print(f\"{word} is not a keyword.\")"
      ],
      "metadata": {
        "colab": {
          "base_uri": "https://localhost:8080/"
        },
        "id": "vkYlZeSYbt58",
        "outputId": "7f9fcf04-b9e3-4b36-b8e8-07f9433b5d02"
      },
      "execution_count": 34,
      "outputs": [
        {
          "output_type": "stream",
          "name": "stdout",
          "text": [
            "Enter a word: 123\n",
            "123 is not a keyword.\n"
          ]
        }
      ]
    },
    {
      "cell_type": "code",
      "source": [
        "# 5. Create a list and tuple in Python, and demonstrate how attempting to change an element works differently for each.\n",
        "  ## Ans\n",
        "# List (Mutable)\n",
        "my_list = [1, 2, 3]\n",
        "my_list[0] = 100\n",
        "print(my_list)  # it will print [100, 2, 3]"
      ],
      "metadata": {
        "colab": {
          "base_uri": "https://localhost:8080/"
        },
        "id": "LDYUk3W2b0sa",
        "outputId": "85cac658-33ed-43fe-da05-ccd55964680f"
      },
      "execution_count": 36,
      "outputs": [
        {
          "output_type": "stream",
          "name": "stdout",
          "text": [
            "[100, 2, 3]\n"
          ]
        }
      ]
    },
    {
      "cell_type": "code",
      "source": [
        "  ## Ans 5 continued\n",
        "# Tuple (Immutable)\n",
        "my_tuple = (1, 2, 3)\n",
        "my_tuple[0] = 100  # This will raise an error"
      ],
      "metadata": {
        "colab": {
          "base_uri": "https://localhost:8080/",
          "height": 176
        },
        "id": "HS1ewmS9cW1H",
        "outputId": "27af9556-1ebd-4d49-c4f1-265fc0964517"
      },
      "execution_count": 39,
      "outputs": [
        {
          "output_type": "error",
          "ename": "TypeError",
          "evalue": "'tuple' object does not support item assignment",
          "traceback": [
            "\u001b[0;31m---------------------------------------------------------------------------\u001b[0m",
            "\u001b[0;31mTypeError\u001b[0m                                 Traceback (most recent call last)",
            "\u001b[0;32m<ipython-input-39-6ca5cd1cd87e>\u001b[0m in \u001b[0;36m<cell line: 0>\u001b[0;34m()\u001b[0m\n\u001b[1;32m      2\u001b[0m \u001b[0;31m# Tuple (Immutable)\u001b[0m\u001b[0;34m\u001b[0m\u001b[0;34m\u001b[0m\u001b[0m\n\u001b[1;32m      3\u001b[0m \u001b[0mmy_tuple\u001b[0m \u001b[0;34m=\u001b[0m \u001b[0;34m(\u001b[0m\u001b[0;36m1\u001b[0m\u001b[0;34m,\u001b[0m \u001b[0;36m2\u001b[0m\u001b[0;34m,\u001b[0m \u001b[0;36m3\u001b[0m\u001b[0;34m)\u001b[0m\u001b[0;34m\u001b[0m\u001b[0;34m\u001b[0m\u001b[0m\n\u001b[0;32m----> 4\u001b[0;31m \u001b[0mmy_tuple\u001b[0m\u001b[0;34m[\u001b[0m\u001b[0;36m0\u001b[0m\u001b[0;34m]\u001b[0m \u001b[0;34m=\u001b[0m \u001b[0;36m100\u001b[0m  \u001b[0;31m# This will raise an error\u001b[0m\u001b[0;34m\u001b[0m\u001b[0;34m\u001b[0m\u001b[0m\n\u001b[0m",
            "\u001b[0;31mTypeError\u001b[0m: 'tuple' object does not support item assignment"
          ]
        }
      ]
    },
    {
      "cell_type": "code",
      "source": [
        "# 6. Write a function to demonstrate the behavior of mutable and immutable arguments.\n",
        "  ## Ans\n",
        "def modify_values(lst, num):\n",
        "    lst.append(4)  # Modifying list (mutable)\n",
        "    num += 1       # Modifying integer (immutable)\n",
        "\n",
        "my_list = [1, 2, 3]\n",
        "my_num = 10\n",
        "modify_values(my_list, my_num)\n",
        "print(my_list)  # [1, 2, 3, 4]\n",
        "print(my_num)   # 10 (unchanged)"
      ],
      "metadata": {
        "colab": {
          "base_uri": "https://localhost:8080/"
        },
        "id": "BZcPIt8FcxqE",
        "outputId": "fcfcf3ab-06e9-434a-d6c5-0be2c6e26af9"
      },
      "execution_count": 41,
      "outputs": [
        {
          "output_type": "stream",
          "name": "stdout",
          "text": [
            "[1, 2, 3, 4]\n",
            "10\n"
          ]
        }
      ]
    },
    {
      "cell_type": "code",
      "source": [
        "# 7. Write a function to demonstrate the behavior of mutable and immutable arguments.\n",
        "## Ans\n",
        "def modify_values(lst, num):\n",
        "    lst.append(4)  # Modifying list (mutable)\n",
        "    num += 1       # Modifying integer (immutable)\n",
        "\n",
        "my_list = [1, 2, 3]\n",
        "my_num = 10\n",
        "modify_values(my_list, my_num)\n",
        "print(my_list)  # [1, 2, 3, 4]\n",
        "print(my_num)   # 10 (unchanged)"
      ],
      "metadata": {
        "colab": {
          "base_uri": "https://localhost:8080/"
        },
        "id": "0cqliB3vdSJl",
        "outputId": "728edf0b-2345-4256-d349-109c4cf533f1"
      },
      "execution_count": 42,
      "outputs": [
        {
          "output_type": "stream",
          "name": "stdout",
          "text": [
            "[1, 2, 3, 4]\n",
            "10\n"
          ]
        }
      ]
    },
    {
      "cell_type": "code",
      "source": [
        "# 8.  Write a program to demonstrate the use of logical operators.\n",
        "  ## Ans\n",
        "x, y = True, False\n",
        "print(x and y)  # False\n",
        "print(x or y)   # True\n",
        "print(not x)    # False"
      ],
      "metadata": {
        "colab": {
          "base_uri": "https://localhost:8080/"
        },
        "id": "DUwfXDO9egYb",
        "outputId": "18d697dc-e391-43f3-f916-0e9d3390bf74"
      },
      "execution_count": 44,
      "outputs": [
        {
          "output_type": "stream",
          "name": "stdout",
          "text": [
            "False\n",
            "True\n",
            "False\n"
          ]
        }
      ]
    },
    {
      "cell_type": "code",
      "source": [
        "# 9. Write a Python program to convert user input from string to integer, float, and boolean types.\n",
        "  ## Ans\n",
        "user_input = input(\"Enter a value: \")\n",
        "print(int(user_input))    # Converts to integer\n",
        "print(float(user_input))  # Converts to float\n",
        "print(bool(user_input))   # Converts to boolean"
      ],
      "metadata": {
        "colab": {
          "base_uri": "https://localhost:8080/"
        },
        "id": "s8rvyqkOel_b",
        "outputId": "0531aa57-5754-49f2-db2b-1134a9052b0f"
      },
      "execution_count": 45,
      "outputs": [
        {
          "output_type": "stream",
          "name": "stdout",
          "text": [
            "Enter a value: 1\n",
            "1\n",
            "1.0\n",
            "True\n"
          ]
        }
      ]
    },
    {
      "cell_type": "code",
      "source": [
        "# 10. Write code to demonstrate type casting with list elements.\n",
        "  ## Ans\n",
        "my_list = [\"1\", \"2\", \"3\"]\n",
        "int_list = list(map(int, my_list))\n",
        "print(int_list)  # [1, 2, 3]"
      ],
      "metadata": {
        "colab": {
          "base_uri": "https://localhost:8080/"
        },
        "id": "3OhdbJlLe582",
        "outputId": "825b683e-841d-43b2-f4cd-29fc7d9988c8"
      },
      "execution_count": 48,
      "outputs": [
        {
          "output_type": "stream",
          "name": "stdout",
          "text": [
            "[1, 2, 3]\n"
          ]
        }
      ]
    },
    {
      "cell_type": "code",
      "source": [
        "# 11.  Write a program that checks if a number is positive, negative, or zero.\n",
        "  ## Ans\n",
        "num = int(input(\"Enter a number: \"))\n",
        "if num > 0:\n",
        "    print(\"Positive\")\n",
        "elif num < 0:\n",
        "    print(\"Negative\")\n",
        "else:\n",
        "    print(\"Zero\")"
      ],
      "metadata": {
        "colab": {
          "base_uri": "https://localhost:8080/"
        },
        "id": "uCNHhTJ8fOBr",
        "outputId": "09482bf2-43d6-4df4-e44e-fd03e70fa1a2"
      },
      "execution_count": 52,
      "outputs": [
        {
          "output_type": "stream",
          "name": "stdout",
          "text": [
            "Enter a number: 3\n",
            "Positive\n"
          ]
        }
      ]
    },
    {
      "cell_type": "code",
      "source": [
        "# 12. Write a for loop to print numbers from 1 to 100.\n",
        "  ## Ans\n",
        "for i in range(1, 11):\n",
        "    print(i)"
      ],
      "metadata": {
        "colab": {
          "base_uri": "https://localhost:8080/"
        },
        "id": "214tWOKcfwFq",
        "outputId": "4fd53ac2-2676-4a7b-b2e1-d7991975e576"
      },
      "execution_count": 54,
      "outputs": [
        {
          "output_type": "stream",
          "name": "stdout",
          "text": [
            "1\n",
            "2\n",
            "3\n",
            "4\n",
            "5\n",
            "6\n",
            "7\n",
            "8\n",
            "9\n",
            "10\n"
          ]
        }
      ]
    },
    {
      "cell_type": "code",
      "source": [
        "# 13. Write a Python program to find the sum of all even numbers between 1 and 500.\n",
        "  ## Ans\n",
        "sum_even = sum(i for i in range(1, 51) if i % 2 == 0)\n",
        "print(sum_even)"
      ],
      "metadata": {
        "colab": {
          "base_uri": "https://localhost:8080/"
        },
        "id": "R1-f40rqgaVh",
        "outputId": "c0ea7809-a9ab-442d-8ff4-e98118f94cc3"
      },
      "execution_count": 55,
      "outputs": [
        {
          "output_type": "stream",
          "name": "stdout",
          "text": [
            "650\n"
          ]
        }
      ]
    },
    {
      "cell_type": "code",
      "source": [
        "# 14. Write a program to reverse a string using a while loop.\n",
        "  ## Ans\n",
        "text = \"Python\"\n",
        "reversed_text = \"\"\n",
        "i = len(text) - 1\n",
        "while i >= 0:\n",
        "    reversed_text += text[i]\n",
        "    i -= 1\n",
        "print(reversed_text)"
      ],
      "metadata": {
        "colab": {
          "base_uri": "https://localhost:8080/"
        },
        "id": "cRBn4MJEgtHb",
        "outputId": "80e35284-5df9-4d9f-e96f-b7db31d16300"
      },
      "execution_count": 56,
      "outputs": [
        {
          "output_type": "stream",
          "name": "stdout",
          "text": [
            "nohtyP\n"
          ]
        }
      ]
    },
    {
      "cell_type": "code",
      "source": [
        "# 15. Write a Python program to calculate the factorial of a number provided by the user using a while loop.\n",
        "  ## Ans\n",
        "num = int(input(\"Enter a number: \"))\n",
        "fact = 1\n",
        "while num > 1:\n",
        "    fact *= num\n",
        "    num -= 1\n",
        "print(f\"Factorial: {fact}\")"
      ],
      "metadata": {
        "colab": {
          "base_uri": "https://localhost:8080/"
        },
        "id": "n2lOkOoKg-8u",
        "outputId": "9d9a86d8-537a-4432-b76d-3592f1123636"
      },
      "execution_count": 57,
      "outputs": [
        {
          "output_type": "stream",
          "name": "stdout",
          "text": [
            "Enter a number: 4\n",
            "Factorial: 24\n"
          ]
        }
      ]
    }
  ]
}